{
 "cells": [
  {
   "cell_type": "code",
   "id": "initial_id",
   "metadata": {
    "collapsed": true,
    "ExecuteTime": {
     "end_time": "2025-08-28T08:44:03.399351Z",
     "start_time": "2025-08-28T08:44:02.008697Z"
    }
   },
   "source": "from cosmos_tokenizer.image_lib import ImageTokenizer",
   "outputs": [],
   "execution_count": 1
  },
  {
   "metadata": {
    "ExecuteTime": {
     "end_time": "2025-08-28T08:44:03.410394Z",
     "start_time": "2025-08-28T08:44:03.408355Z"
    }
   },
   "cell_type": "code",
   "source": [
    "# replace with your own model path\n",
    "ENCODER_PATH = r\"D:\\pyproject\\awesome_tokenizer\\cosmos_tokenizer\\checkpoints\\DI16X16_encoder.jit\"\n",
    "DECODER_PATH = r\"D:\\pyproject\\awesome_tokenizer\\cosmos_tokenizer\\checkpoints\\DI16X16_decoder.jit\""
   ],
   "id": "7df1cb2903799cf9",
   "outputs": [],
   "execution_count": 2
  },
  {
   "metadata": {
    "ExecuteTime": {
     "end_time": "2025-08-28T08:45:13.163380Z",
     "start_time": "2025-08-28T08:45:13.158215Z"
    }
   },
   "cell_type": "code",
   "source": [
    "import torch\n",
    "x = torch.randn(1, 3, 512, 512)\n",
    "device = torch.device(\"cuda\" if torch.cuda.is_available() else \"cpu\")"
   ],
   "id": "d511c1319d69f56c",
   "outputs": [],
   "execution_count": 7
  },
  {
   "metadata": {
    "ExecuteTime": {
     "end_time": "2025-08-28T08:45:13.711171Z",
     "start_time": "2025-08-28T08:45:13.496919Z"
    }
   },
   "cell_type": "code",
   "source": [
    "encoder = ImageTokenizer(checkpoint_enc=ENCODER_PATH)\n",
    "decoder = ImageTokenizer(checkpoint_dec=DECODER_PATH)"
   ],
   "id": "2293d9d4a6f36f75",
   "outputs": [],
   "execution_count": 8
  },
  {
   "metadata": {
    "ExecuteTime": {
     "end_time": "2025-08-28T08:45:14.113964Z",
     "start_time": "2025-08-28T08:45:13.834599Z"
    }
   },
   "cell_type": "code",
   "source": [
    "indices, _ = encoder.encode(x.to(device))\n",
    "indices.shape"
   ],
   "id": "d7115e2b9238feba",
   "outputs": [
    {
     "data": {
      "text/plain": [
       "torch.Size([1, 32, 32])"
      ]
     },
     "execution_count": 9,
     "metadata": {},
     "output_type": "execute_result"
    }
   ],
   "execution_count": 9
  },
  {
   "metadata": {
    "ExecuteTime": {
     "end_time": "2025-08-28T08:45:15.333943Z",
     "start_time": "2025-08-28T08:45:14.613873Z"
    }
   },
   "cell_type": "code",
   "source": [
    "rec = decoder.decode(indices)\n",
    "rec.shape"
   ],
   "id": "b97eb48ebd34ae73",
   "outputs": [
    {
     "data": {
      "text/plain": [
       "torch.Size([1, 3, 512, 512])"
      ]
     },
     "execution_count": 10,
     "metadata": {},
     "output_type": "execute_result"
    }
   ],
   "execution_count": 10
  },
  {
   "metadata": {},
   "cell_type": "code",
   "outputs": [],
   "execution_count": null,
   "source": "",
   "id": "72921adc02c84b52"
  }
 ],
 "metadata": {
  "kernelspec": {
   "display_name": "Python 3",
   "language": "python",
   "name": "python3"
  },
  "language_info": {
   "codemirror_mode": {
    "name": "ipython",
    "version": 2
   },
   "file_extension": ".py",
   "mimetype": "text/x-python",
   "name": "python",
   "nbconvert_exporter": "python",
   "pygments_lexer": "ipython2",
   "version": "2.7.6"
  }
 },
 "nbformat": 4,
 "nbformat_minor": 5
}
