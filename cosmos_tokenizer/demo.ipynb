{
 "cells": [
  {
   "cell_type": "code",
   "id": "initial_id",
   "metadata": {
    "collapsed": true,
    "ExecuteTime": {
     "end_time": "2025-08-28T08:11:20.992894Z",
     "start_time": "2025-08-28T08:11:19.624604Z"
    }
   },
   "source": "from cosmos_tokenizer.image_lib import ImageTokenizer",
   "outputs": [],
   "execution_count": 1
  },
  {
   "metadata": {
    "ExecuteTime": {
     "end_time": "2025-08-28T08:11:37.089742Z",
     "start_time": "2025-08-28T08:11:37.086884Z"
    }
   },
   "cell_type": "code",
   "source": [
    "# replace with your own model path\n",
    "ENCODER_PATH = r\"D:\\pyproject\\awesome_tokenizer\\cosmos_tokenizer\\checkpoints\\DI16X16_encoder.jit\"\n",
    "DECODER_PATH = r\"D:\\pyproject\\awesome_tokenizer\\cosmos_tokenizer\\checkpoints\\DI16X16_decoder.jit\""
   ],
   "id": "7df1cb2903799cf9",
   "outputs": [],
   "execution_count": 2
  },
  {
   "metadata": {},
   "cell_type": "code",
   "outputs": [],
   "execution_count": null,
   "source": [
    "import torch\n",
    "x = torch.randn(1, 3, 256, 256)\n",
    "device = torch.device(\"cuda\" if torch.cuda.is_available() else \"cpu\")"
   ],
   "id": "d511c1319d69f56c"
  },
  {
   "metadata": {
    "ExecuteTime": {
     "end_time": "2025-08-28T08:12:52.446764Z",
     "start_time": "2025-08-28T08:12:52.162422Z"
    }
   },
   "cell_type": "code",
   "source": [
    "encoder = ImageTokenizer(checkpoint_enc=ENCODER_PATH)\n",
    "decoder = ImageTokenizer(checkpoint_dec=DECODER_PATH)"
   ],
   "id": "2293d9d4a6f36f75",
   "outputs": [],
   "execution_count": 4
  },
  {
   "metadata": {
    "ExecuteTime": {
     "end_time": "2025-08-28T08:13:15.094983Z",
     "start_time": "2025-08-28T08:13:14.361940Z"
    }
   },
   "cell_type": "code",
   "source": [
    "indices, _ = encoder.encode(x.to(device))\n",
    "indices.shape"
   ],
   "id": "d7115e2b9238feba",
   "outputs": [
    {
     "data": {
      "text/plain": [
       "torch.Size([1, 16, 16])"
      ]
     },
     "execution_count": 7,
     "metadata": {},
     "output_type": "execute_result"
    }
   ],
   "execution_count": 7
  },
  {
   "metadata": {
    "ExecuteTime": {
     "end_time": "2025-08-28T08:14:07.611960Z",
     "start_time": "2025-08-28T08:14:07.561882Z"
    }
   },
   "cell_type": "code",
   "source": [
    "rec = decoder.decode(indices)\n",
    "rec.shape"
   ],
   "id": "b97eb48ebd34ae73",
   "outputs": [
    {
     "data": {
      "text/plain": [
       "torch.Size([1, 3, 256, 256])"
      ]
     },
     "execution_count": 12,
     "metadata": {},
     "output_type": "execute_result"
    }
   ],
   "execution_count": 12
  },
  {
   "metadata": {},
   "cell_type": "code",
   "outputs": [],
   "execution_count": null,
   "source": "",
   "id": "72921adc02c84b52"
  }
 ],
 "metadata": {
  "kernelspec": {
   "display_name": "Python 3",
   "language": "python",
   "name": "python3"
  },
  "language_info": {
   "codemirror_mode": {
    "name": "ipython",
    "version": 2
   },
   "file_extension": ".py",
   "mimetype": "text/x-python",
   "name": "python",
   "nbconvert_exporter": "python",
   "pygments_lexer": "ipython2",
   "version": "2.7.6"
  }
 },
 "nbformat": 4,
 "nbformat_minor": 5
}
