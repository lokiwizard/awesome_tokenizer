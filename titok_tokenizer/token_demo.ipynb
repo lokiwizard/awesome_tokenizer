{
 "cells": [
  {
   "cell_type": "code",
   "id": "initial_id",
   "metadata": {
    "collapsed": true,
    "ExecuteTime": {
     "end_time": "2025-08-28T13:19:57.694662Z",
     "start_time": "2025-08-28T13:19:57.690728Z"
    }
   },
   "source": [
    "from omegaconf import OmegaConf\n",
    "from titok_tokenizer.titok import TiTok\n",
    "import torch\n",
    "from PIL import Image\n",
    "import numpy as np"
   ],
   "outputs": [],
   "execution_count": 30
  },
  {
   "metadata": {
    "ExecuteTime": {
     "end_time": "2025-08-28T13:19:57.893841Z",
     "start_time": "2025-08-28T13:19:57.888242Z"
    }
   },
   "cell_type": "code",
   "source": [
    "config_path = \"configs/titok_b64.yaml\"\n",
    "config = OmegaConf.load(config_path)"
   ],
   "id": "41d6943e665ce36",
   "outputs": [],
   "execution_count": 31
  },
  {
   "metadata": {
    "ExecuteTime": {
     "end_time": "2025-08-28T13:19:58.117797Z",
     "start_time": "2025-08-28T13:19:58.112550Z"
    }
   },
   "cell_type": "code",
   "source": "config",
   "id": "8a047fda5873961a",
   "outputs": [
    {
     "data": {
      "text/plain": [
       "{'experiment': {'tokenizer_checkpoint': 'tokenizer_titok_b64.bin', 'generator_checkpoint': 'generator_titok_b64.bin', 'output_dir': 'titok_b_64'}, 'model': {'vq_model': {'codebook_size': 4096, 'token_size': 12, 'use_l2_norm': True, 'commitment_cost': 0.25, 'vit_enc_model_size': 'base', 'vit_dec_model_size': 'base', 'vit_enc_patch_size': 16, 'vit_dec_patch_size': 16, 'num_latent_tokens': 64, 'finetune_decoder': True}, 'generator': {'model_type': 'ViT', 'hidden_size': 768, 'num_hidden_layers': 24, 'num_attention_heads': 16, 'intermediate_size': 3072, 'dropout': 0.1, 'attn_drop': 0.1, 'num_steps': 8, 'class_label_dropout': 0.1, 'image_seq_len': '${model.vq_model.num_latent_tokens}', 'condition_num_classes': 1000, 'randomize_temperature': 11.0, 'guidance_scale': 3.0, 'guidance_decay': 'linear'}}, 'dataset': {'preprocessing': {'crop_size': 256}}}"
      ]
     },
     "execution_count": 32,
     "metadata": {},
     "output_type": "execute_result"
    }
   ],
   "execution_count": 32
  },
  {
   "metadata": {
    "ExecuteTime": {
     "end_time": "2025-08-28T13:19:59.855329Z",
     "start_time": "2025-08-28T13:19:58.745359Z"
    }
   },
   "cell_type": "code",
   "source": [
    "titok_tokenizer = TiTok(config)\n",
    "state_dict = torch.load(\"./checkpoints/tokenizer_titok_b64.bin\", map_location=\"cpu\")\n",
    "titok_tokenizer.load_state_dict(state_dict, strict=True)"
   ],
   "id": "be843c9fd740447",
   "outputs": [
    {
     "data": {
      "text/plain": [
       "<All keys matched successfully>"
      ]
     },
     "execution_count": 33,
     "metadata": {},
     "output_type": "execute_result"
    }
   ],
   "execution_count": 33
  },
  {
   "metadata": {
    "ExecuteTime": {
     "end_time": "2025-08-28T13:20:11.815642Z",
     "start_time": "2025-08-28T13:20:11.810599Z"
    }
   },
   "cell_type": "code",
   "source": [
    "image = Image.open(\"./cat.jpg\").convert(\"RGB\")\n",
    "image = image.resize((256, 256), Image.LANCZOS)\n",
    "image = np.array(image).astype(np.float32) / 255.0\n",
    "image = torch.from_numpy(image).permute(2, 0, 1).unsqueeze(0)\n",
    "image.shape"
   ],
   "id": "7519b5fd3939e93d",
   "outputs": [
    {
     "data": {
      "text/plain": [
       "torch.Size([1, 3, 256, 256])"
      ]
     },
     "execution_count": 37,
     "metadata": {},
     "output_type": "execute_result"
    }
   ],
   "execution_count": 37
  },
  {
   "metadata": {
    "ExecuteTime": {
     "end_time": "2025-08-28T13:20:12.106864Z",
     "start_time": "2025-08-28T13:20:12.102408Z"
    }
   },
   "cell_type": "code",
   "source": "titok_tokenizer.eval()",
   "id": "459ad646b37db749",
   "outputs": [
    {
     "data": {
      "text/plain": [
       "TiTok(\n",
       "  (encoder): TiTokEncoder(\n",
       "    (patch_embed): Conv2d(3, 768, kernel_size=(16, 16), stride=(16, 16))\n",
       "    (ln_pre): LayerNorm((768,), eps=1e-05, elementwise_affine=True)\n",
       "    (transformer): ModuleList(\n",
       "      (0-11): 12 x ResidualAttentionBlock(\n",
       "        (ln_1): LayerNorm((768,), eps=1e-05, elementwise_affine=True)\n",
       "        (attn): MultiheadAttention(\n",
       "          (out_proj): NonDynamicallyQuantizableLinear(in_features=768, out_features=768, bias=True)\n",
       "        )\n",
       "        (ln_2): LayerNorm((768,), eps=1e-05, elementwise_affine=True)\n",
       "        (mlp): Sequential(\n",
       "          (c_fc): Linear(in_features=768, out_features=3072, bias=True)\n",
       "          (gelu): GELU(approximate='none')\n",
       "          (c_proj): Linear(in_features=3072, out_features=768, bias=True)\n",
       "        )\n",
       "      )\n",
       "    )\n",
       "    (ln_post): LayerNorm((768,), eps=1e-05, elementwise_affine=True)\n",
       "    (conv_out): Conv2d(768, 12, kernel_size=(1, 1), stride=(1, 1))\n",
       "  )\n",
       "  (decoder): TiTokDecoder(\n",
       "    (decoder_embed): Linear(in_features=12, out_features=768, bias=True)\n",
       "    (ln_pre): LayerNorm((768,), eps=1e-05, elementwise_affine=True)\n",
       "    (transformer): ModuleList(\n",
       "      (0-11): 12 x ResidualAttentionBlock(\n",
       "        (ln_1): LayerNorm((768,), eps=1e-05, elementwise_affine=True)\n",
       "        (attn): MultiheadAttention(\n",
       "          (out_proj): NonDynamicallyQuantizableLinear(in_features=768, out_features=768, bias=True)\n",
       "        )\n",
       "        (ln_2): LayerNorm((768,), eps=1e-05, elementwise_affine=True)\n",
       "        (mlp): Sequential(\n",
       "          (c_fc): Linear(in_features=768, out_features=3072, bias=True)\n",
       "          (gelu): GELU(approximate='none')\n",
       "          (c_proj): Linear(in_features=3072, out_features=768, bias=True)\n",
       "        )\n",
       "      )\n",
       "    )\n",
       "    (ln_post): LayerNorm((768,), eps=1e-05, elementwise_affine=True)\n",
       "    (ffn): Sequential(\n",
       "      (0): Conv2d(768, 1536, kernel_size=(1, 1), stride=(1, 1))\n",
       "      (1): Tanh()\n",
       "      (2): Conv2d(1536, 1024, kernel_size=(1, 1), stride=(1, 1))\n",
       "    )\n",
       "    (conv_out): Identity()\n",
       "  )\n",
       "  (quantize): VectorQuantizer(\n",
       "    (embedding): Embedding(4096, 12)\n",
       "  )\n",
       "  (pixel_quantize): VectorQuantizer(\n",
       "    (embedding): Embedding(1024, 256)\n",
       "  )\n",
       "  (pixel_decoder): Decoder(\n",
       "    (conv_in): Conv2dSame(256, 512, kernel_size=(3, 3), stride=(1, 1))\n",
       "    (mid): ModuleList(\n",
       "      (0-1): 2 x ResnetBlock(\n",
       "        (norm1): GroupNorm(32, 512, eps=1e-06, affine=True)\n",
       "        (conv1): Conv2dSame(512, 512, kernel_size=(3, 3), stride=(1, 1), bias=False)\n",
       "        (norm2): GroupNorm(32, 512, eps=1e-06, affine=True)\n",
       "        (dropout): Dropout(p=0.0, inplace=False)\n",
       "        (conv2): Conv2dSame(512, 512, kernel_size=(3, 3), stride=(1, 1), bias=False)\n",
       "      )\n",
       "    )\n",
       "    (up): ModuleList(\n",
       "      (0): UpsamplingBlock(\n",
       "        (block): ModuleList(\n",
       "          (0-1): 2 x ResnetBlock(\n",
       "            (norm1): GroupNorm(32, 128, eps=1e-06, affine=True)\n",
       "            (conv1): Conv2dSame(128, 128, kernel_size=(3, 3), stride=(1, 1), bias=False)\n",
       "            (norm2): GroupNorm(32, 128, eps=1e-06, affine=True)\n",
       "            (dropout): Dropout(p=0.0, inplace=False)\n",
       "            (conv2): Conv2dSame(128, 128, kernel_size=(3, 3), stride=(1, 1), bias=False)\n",
       "          )\n",
       "        )\n",
       "      )\n",
       "      (1): UpsamplingBlock(\n",
       "        (block): ModuleList(\n",
       "          (0): ResnetBlock(\n",
       "            (norm1): GroupNorm(32, 256, eps=1e-06, affine=True)\n",
       "            (conv1): Conv2dSame(256, 128, kernel_size=(3, 3), stride=(1, 1), bias=False)\n",
       "            (norm2): GroupNorm(32, 128, eps=1e-06, affine=True)\n",
       "            (dropout): Dropout(p=0.0, inplace=False)\n",
       "            (conv2): Conv2dSame(128, 128, kernel_size=(3, 3), stride=(1, 1), bias=False)\n",
       "            (nin_shortcut): Conv2dSame(128, 128, kernel_size=(1, 1), stride=(1, 1), bias=False)\n",
       "          )\n",
       "          (1): ResnetBlock(\n",
       "            (norm1): GroupNorm(32, 128, eps=1e-06, affine=True)\n",
       "            (conv1): Conv2dSame(128, 128, kernel_size=(3, 3), stride=(1, 1), bias=False)\n",
       "            (norm2): GroupNorm(32, 128, eps=1e-06, affine=True)\n",
       "            (dropout): Dropout(p=0.0, inplace=False)\n",
       "            (conv2): Conv2dSame(128, 128, kernel_size=(3, 3), stride=(1, 1), bias=False)\n",
       "          )\n",
       "        )\n",
       "        (upsample_conv): Conv2dSame(128, 128, kernel_size=(3, 3), stride=(1, 1))\n",
       "      )\n",
       "      (2): UpsamplingBlock(\n",
       "        (block): ModuleList(\n",
       "          (0-1): 2 x ResnetBlock(\n",
       "            (norm1): GroupNorm(32, 256, eps=1e-06, affine=True)\n",
       "            (conv1): Conv2dSame(256, 256, kernel_size=(3, 3), stride=(1, 1), bias=False)\n",
       "            (norm2): GroupNorm(32, 256, eps=1e-06, affine=True)\n",
       "            (dropout): Dropout(p=0.0, inplace=False)\n",
       "            (conv2): Conv2dSame(256, 256, kernel_size=(3, 3), stride=(1, 1), bias=False)\n",
       "          )\n",
       "        )\n",
       "        (upsample_conv): Conv2dSame(256, 256, kernel_size=(3, 3), stride=(1, 1))\n",
       "      )\n",
       "      (3): UpsamplingBlock(\n",
       "        (block): ModuleList(\n",
       "          (0): ResnetBlock(\n",
       "            (norm1): GroupNorm(32, 512, eps=1e-06, affine=True)\n",
       "            (conv1): Conv2dSame(512, 256, kernel_size=(3, 3), stride=(1, 1), bias=False)\n",
       "            (norm2): GroupNorm(32, 256, eps=1e-06, affine=True)\n",
       "            (dropout): Dropout(p=0.0, inplace=False)\n",
       "            (conv2): Conv2dSame(256, 256, kernel_size=(3, 3), stride=(1, 1), bias=False)\n",
       "            (nin_shortcut): Conv2dSame(256, 256, kernel_size=(1, 1), stride=(1, 1), bias=False)\n",
       "          )\n",
       "          (1): ResnetBlock(\n",
       "            (norm1): GroupNorm(32, 256, eps=1e-06, affine=True)\n",
       "            (conv1): Conv2dSame(256, 256, kernel_size=(3, 3), stride=(1, 1), bias=False)\n",
       "            (norm2): GroupNorm(32, 256, eps=1e-06, affine=True)\n",
       "            (dropout): Dropout(p=0.0, inplace=False)\n",
       "            (conv2): Conv2dSame(256, 256, kernel_size=(3, 3), stride=(1, 1), bias=False)\n",
       "          )\n",
       "        )\n",
       "        (upsample_conv): Conv2dSame(256, 256, kernel_size=(3, 3), stride=(1, 1))\n",
       "      )\n",
       "      (4): UpsamplingBlock(\n",
       "        (block): ModuleList(\n",
       "          (0-1): 2 x ResnetBlock(\n",
       "            (norm1): GroupNorm(32, 512, eps=1e-06, affine=True)\n",
       "            (conv1): Conv2dSame(512, 512, kernel_size=(3, 3), stride=(1, 1), bias=False)\n",
       "            (norm2): GroupNorm(32, 512, eps=1e-06, affine=True)\n",
       "            (dropout): Dropout(p=0.0, inplace=False)\n",
       "            (conv2): Conv2dSame(512, 512, kernel_size=(3, 3), stride=(1, 1), bias=False)\n",
       "          )\n",
       "        )\n",
       "        (upsample_conv): Conv2dSame(512, 512, kernel_size=(3, 3), stride=(1, 1))\n",
       "      )\n",
       "    )\n",
       "    (norm_out): GroupNorm(32, 128, eps=1e-06, affine=True)\n",
       "    (conv_out): Conv2dSame(128, 3, kernel_size=(3, 3), stride=(1, 1))\n",
       "  )\n",
       ")"
      ]
     },
     "execution_count": 38,
     "metadata": {},
     "output_type": "execute_result"
    }
   ],
   "execution_count": 38
  },
  {
   "metadata": {
    "ExecuteTime": {
     "end_time": "2025-08-28T13:20:12.714717Z",
     "start_time": "2025-08-28T13:20:12.611575Z"
    }
   },
   "cell_type": "code",
   "source": [
    "encoded_tokens = titok_tokenizer.encode(image)[1][\"min_encoding_indices\"]\n",
    "encoded_tokens"
   ],
   "id": "fd54c5a25f361091",
   "outputs": [
    {
     "data": {
      "text/plain": [
       "tensor([[[1109, 1579, 1103,  458, 1743, 2109, 3899, 1576, 1542,  737, 2575,\n",
       "           308, 2344,  937, 3714,   87,  154,  568, 4034, 3264,  842, 1222,\n",
       "          2428,  793,  774, 1759, 2451, 3796,  871, 1805, 3432, 1491, 3746,\n",
       "           560, 4074, 2432, 3136, 3621, 1402, 3064, 2998,  151,  150, 1051,\n",
       "          4007, 3101, 2392, 3259, 3967, 3074, 4002,   65, 3385, 3839,  852,\n",
       "          1173, 3157, 3149, 3997,  380,  743,  465, 3333,   57]]])"
      ]
     },
     "execution_count": 39,
     "metadata": {},
     "output_type": "execute_result"
    }
   ],
   "execution_count": 39
  },
  {
   "metadata": {
    "ExecuteTime": {
     "end_time": "2025-08-28T13:20:13.246856Z",
     "start_time": "2025-08-28T13:20:12.857439Z"
    }
   },
   "cell_type": "code",
   "source": [
    "reconstructed_image = titok_tokenizer.decode_tokens(encoded_tokens)\n",
    "reconstructed_image = torch.clamp(reconstructed_image, 0.0, 1.0)\n",
    "reconstructed_image = (reconstructed_image * 255.0).permute(0, 2, 3, 1).to(\"cpu\", dtype=torch.uint8).numpy()[0]\n",
    "reconstructed_image = Image.fromarray(reconstructed_image)"
   ],
   "id": "6abf817079d6aabd",
   "outputs": [],
   "execution_count": 40
  },
  {
   "metadata": {},
   "cell_type": "code",
   "outputs": [],
   "execution_count": null,
   "source": "",
   "id": "f686b6084a8e1ba5"
  }
 ],
 "metadata": {
  "kernelspec": {
   "display_name": "Python 3",
   "language": "python",
   "name": "python3"
  },
  "language_info": {
   "codemirror_mode": {
    "name": "ipython",
    "version": 2
   },
   "file_extension": ".py",
   "mimetype": "text/x-python",
   "name": "python",
   "nbconvert_exporter": "python",
   "pygments_lexer": "ipython2",
   "version": "2.7.6"
  }
 },
 "nbformat": 4,
 "nbformat_minor": 5
}
